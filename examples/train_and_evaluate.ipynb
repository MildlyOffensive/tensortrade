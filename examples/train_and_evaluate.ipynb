{
 "cells": [
  {
   "cell_type": "code",
   "execution_count": 1,
   "metadata": {},
   "outputs": [],
   "source": [
    "%matplotlib inline\n",
    "%load_ext autoreload\n",
    "\n",
    "%autoreload 2"
   ]
  },
  {
   "cell_type": "code",
   "execution_count": 2,
   "metadata": {},
   "outputs": [],
   "source": [
    "import os\n",
    "import sys\n",
    "import warnings\n",
    "import numpy\n",
    "\n",
    "def warn(*args, **kwargs):\n",
    "    pass\n",
    "\n",
    "warnings.warn = warn\n",
    "warnings.simplefilter(action='ignore', category=FutureWarning)\n",
    "numpy.seterr(divide = 'ignore') \n",
    "\n",
    "sys.path.append(os.path.dirname(os.path.abspath('')))"
   ]
  },
  {
   "cell_type": "code",
   "execution_count": 3,
   "metadata": {
    "scrolled": true
   },
   "outputs": [
    {
     "name": "stdout",
     "output_type": "stream",
     "text": [
      "WARNING:tensorflow:From C:\\Users\\codeninja\\Anaconda3\\envs\\tensortrade\\lib\\site-packages\\tensorforce\\core\\optimizers\\tf_optimizer.py:31: The name tf.train.AdadeltaOptimizer is deprecated. Please use tf.compat.v1.train.AdadeltaOptimizer instead.\n",
      "\n",
      "WARNING:tensorflow:From C:\\Users\\codeninja\\Anaconda3\\envs\\tensortrade\\lib\\site-packages\\tensorforce\\core\\optimizers\\tf_optimizer.py:32: The name tf.train.AdagradOptimizer is deprecated. Please use tf.compat.v1.train.AdagradOptimizer instead.\n",
      "\n",
      "WARNING:tensorflow:From C:\\Users\\codeninja\\Anaconda3\\envs\\tensortrade\\lib\\site-packages\\tensorforce\\core\\optimizers\\tf_optimizer.py:33: The name tf.train.AdamOptimizer is deprecated. Please use tf.compat.v1.train.AdamOptimizer instead.\n",
      "\n",
      "WARNING:tensorflow:From C:\\Users\\codeninja\\Anaconda3\\envs\\tensortrade\\lib\\site-packages\\tensorforce\\core\\optimizers\\tf_optimizer.py:35: The name tf.train.GradientDescentOptimizer is deprecated. Please use tf.compat.v1.train.GradientDescentOptimizer instead.\n",
      "\n",
      "WARNING:tensorflow:From C:\\Users\\codeninja\\Anaconda3\\envs\\tensortrade\\lib\\site-packages\\tensorforce\\core\\optimizers\\tf_optimizer.py:36: The name tf.train.MomentumOptimizer is deprecated. Please use tf.compat.v1.train.MomentumOptimizer instead.\n",
      "\n",
      "WARNING:tensorflow:From C:\\Users\\codeninja\\Anaconda3\\envs\\tensortrade\\lib\\site-packages\\tensorforce\\core\\networks\\layer.py:254: The name tf.layers.AveragePooling1D is deprecated. Please use tf.compat.v1.layers.AveragePooling1D instead.\n",
      "\n",
      "WARNING:tensorflow:From C:\\Users\\codeninja\\Anaconda3\\envs\\tensortrade\\lib\\site-packages\\tensorforce\\core\\networks\\layer.py:255: The name tf.layers.AveragePooling2D is deprecated. Please use tf.compat.v1.layers.AveragePooling2D instead.\n",
      "\n",
      "WARNING:tensorflow:From C:\\Users\\codeninja\\Anaconda3\\envs\\tensortrade\\lib\\site-packages\\tensorforce\\core\\networks\\layer.py:256: The name tf.layers.AveragePooling3D is deprecated. Please use tf.compat.v1.layers.AveragePooling3D instead.\n",
      "\n",
      "WARNING:tensorflow:From C:\\Users\\codeninja\\Anaconda3\\envs\\tensortrade\\lib\\site-packages\\tensorforce\\core\\networks\\layer.py:257: The name tf.layers.BatchNormalization is deprecated. Please use tf.compat.v1.layers.BatchNormalization instead.\n",
      "\n",
      "WARNING:tensorflow:From C:\\Users\\codeninja\\Anaconda3\\envs\\tensortrade\\lib\\site-packages\\tensorforce\\core\\networks\\layer.py:258: The name tf.layers.Conv1D is deprecated. Please use tf.compat.v1.layers.Conv1D instead.\n",
      "\n"
     ]
    }
   ],
   "source": [
    "import ccxt\n",
    "\n",
    "from tensortrade.strategies import TensorforceTradingStrategy"
   ]
  },
  {
   "cell_type": "code",
   "execution_count": 4,
   "metadata": {
    "scrolled": true
   },
   "outputs": [],
   "source": [
    "from tensortrade.rewards import SimpleProfitStrategy\n",
    "from tensortrade.actions import DiscreteActionStrategy\n",
    "from tensortrade.exchanges.simulated import FBMExchange\n",
    "from tensortrade.features.stationarity import FractionalDifference\n",
    "from tensortrade.features.scalers import MinMaxNormalizer\n",
    "from tensortrade.features import FeaturePipeline\n",
    "\n",
    "normalize = MinMaxNormalizer(inplace=True)\n",
    "difference = FractionalDifference(difference_order=0.6,\n",
    "                                  inplace=True)\n",
    "feature_pipeline = FeaturePipeline(steps=[normalize, difference])\n",
    "\n",
    "reward_strategy = SimpleProfitStrategy()\n",
    "action_strategy = DiscreteActionStrategy(n_actions=20, instrument_symbol='ETH/BTC')\n",
    "\n",
    "exchange = FBMExchange(base_instrument='BTC',\n",
    "                       timeframe='1h',\n",
    "                       should_pretransform_obs=True)"
   ]
  },
  {
   "cell_type": "code",
   "execution_count": 5,
   "metadata": {
    "scrolled": true
   },
   "outputs": [
    {
     "ename": "TypeError",
     "evalue": "__init__() missing 1 required positional argument: 'network_spec'",
     "output_type": "error",
     "traceback": [
      "\u001b[1;31m---------------------------------------------------------------------------\u001b[0m",
      "\u001b[1;31mTypeError\u001b[0m                                 Traceback (most recent call last)",
      "\u001b[1;32m<ipython-input-5-ef9a18b76291>\u001b[0m in \u001b[0;36m<module>\u001b[1;34m\u001b[0m\n\u001b[0;32m     24\u001b[0m                                  feature_pipeline=feature_pipeline)\n\u001b[0;32m     25\u001b[0m \u001b[1;33m\u001b[0m\u001b[0m\n\u001b[1;32m---> 26\u001b[1;33m \u001b[0mstrategy\u001b[0m \u001b[1;33m=\u001b[0m \u001b[0mTensorforceTradingStrategy\u001b[0m\u001b[1;33m(\u001b[0m\u001b[0menvironment\u001b[0m\u001b[1;33m=\u001b[0m\u001b[0menvironment\u001b[0m\u001b[1;33m,\u001b[0m \u001b[0magent_spec\u001b[0m\u001b[1;33m=\u001b[0m\u001b[0magent_spec\u001b[0m\u001b[1;33m)\u001b[0m\u001b[1;33m\u001b[0m\u001b[1;33m\u001b[0m\u001b[0m\n\u001b[0m",
      "\u001b[1;31mTypeError\u001b[0m: __init__() missing 1 required positional argument: 'network_spec'"
     ]
    }
   ],
   "source": [
    "from tensortrade.environments import TradingEnvironment\n",
    "\n",
    "network_spec = [\n",
    "    dict(type='dense', size=128, activation=\"tanh\"),\n",
    "    dict(type='dense', size=64, activation=\"tanh\"),\n",
    "    dict(type='dense', size=32, activation=\"tanh\")\n",
    "]\n",
    "\n",
    "agent_spec = {\n",
    "    \"type\": \"ppo\",\n",
    "    \"learning_rate\": 1e-4,\n",
    "    \"discount\": 0.99,\n",
    "    \"likelihood_ratio_clipping\": 0.2,\n",
    "    \"estimate_terminal\": False,\n",
    "    \"max_episode_timesteps\": 2000,\n",
    "    \"network\": network_spec,\n",
    "    \"batch_size\": 10,\n",
    "    \"update_frequency\": \"never\"\n",
    "}\n",
    "\n",
    "environment = TradingEnvironment(exchange=exchange,\n",
    "                                 action_strategy=action_strategy,\n",
    "                                 reward_strategy=reward_strategy,\n",
    "                                 feature_pipeline=feature_pipeline)\n",
    "\n",
    "strategy = TensorforceTradingStrategy(environment=environment, agent_spec=agent_spec)"
   ]
  },
  {
   "cell_type": "code",
   "execution_count": null,
   "metadata": {
    "scrolled": true
   },
   "outputs": [
    {
     "name": "stderr",
     "output_type": "stream",
     "text": [
      "Episodes:  80%|████████  | 8/10 [01:32, reward=1167.52, ts/ep=1666, sec/ep=11.60, ms/ts=7.0, agent=14.9%]"
     ]
    }
   ],
   "source": [
    "performance = strategy.run(episodes=10, evaluation=False)\n",
    "\n",
    "performance[-5:]"
   ]
  },
  {
   "cell_type": "code",
   "execution_count": null,
   "metadata": {},
   "outputs": [],
   "source": [
    "performance.balance.plot()"
   ]
  },
  {
   "cell_type": "code",
   "execution_count": null,
   "metadata": {},
   "outputs": [],
   "source": [
    "strategy.save_agent(directory='agents')"
   ]
  },
  {
   "cell_type": "code",
   "execution_count": null,
   "metadata": {},
   "outputs": [],
   "source": []
  }
 ],
 "metadata": {
  "kernelspec": {
   "display_name": "Python 3",
   "language": "python",
   "name": "python3"
  },
  "language_info": {
   "codemirror_mode": {
    "name": "ipython",
    "version": 3
   },
   "file_extension": ".py",
   "mimetype": "text/x-python",
   "name": "python",
   "nbconvert_exporter": "python",
   "pygments_lexer": "ipython3",
   "version": "3.7.4"
  }
 },
 "nbformat": 4,
 "nbformat_minor": 4
}
