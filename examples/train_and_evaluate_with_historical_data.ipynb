{
 "cells": [
  {
   "cell_type": "code",
   "execution_count": 1,
   "metadata": {},
   "outputs": [
    {
     "name": "stdout",
     "output_type": "stream",
     "text": [
      "Processing c:\\users\\codeninja\\dev\\tensortrade\n",
      "Requirement already satisfied, skipping upgrade: numpy==1.16.4 in c:\\users\\codeninja\\appdata\\roaming\\python\\python37\\site-packages (from tensortrade==0.0.1a18) (1.16.4)\n",
      "Requirement already satisfied, skipping upgrade: pandas==0.25.0 in c:\\users\\codeninja\\appdata\\roaming\\python\\python37\\site-packages (from tensortrade==0.0.1a18) (0.25.0)\n",
      "Requirement already satisfied, skipping upgrade: gym==0.14.0 in c:\\users\\codeninja\\appdata\\roaming\\python\\python37\\site-packages (from tensortrade==0.0.1a18) (0.14.0)\n",
      "Requirement already satisfied, skipping upgrade: python-dateutil>=2.6.1 in c:\\users\\codeninja\\anaconda3\\envs\\tt_fresh\\lib\\site-packages (from pandas==0.25.0->tensortrade==0.0.1a18) (2.8.0)\n",
      "Requirement already satisfied, skipping upgrade: pytz>=2017.2 in c:\\users\\codeninja\\anaconda3\\envs\\tt_fresh\\lib\\site-packages (from pandas==0.25.0->tensortrade==0.0.1a18) (2019.3)\n",
      "Requirement already satisfied, skipping upgrade: six in c:\\users\\codeninja\\anaconda3\\envs\\tt_fresh\\lib\\site-packages (from gym==0.14.0->tensortrade==0.0.1a18) (1.12.0)\n",
      "Requirement already satisfied, skipping upgrade: pyglet<=1.3.2,>=1.2.0 in c:\\users\\codeninja\\anaconda3\\envs\\tt_fresh\\lib\\site-packages (from gym==0.14.0->tensortrade==0.0.1a18) (1.3.2)\n",
      "Requirement already satisfied, skipping upgrade: cloudpickle~=1.2.0 in c:\\users\\codeninja\\anaconda3\\envs\\tt_fresh\\lib\\site-packages (from gym==0.14.0->tensortrade==0.0.1a18) (1.2.2)\n",
      "Requirement already satisfied, skipping upgrade: scipy in c:\\users\\codeninja\\anaconda3\\envs\\tt_fresh\\lib\\site-packages (from gym==0.14.0->tensortrade==0.0.1a18) (1.3.1)\n",
      "Requirement already satisfied, skipping upgrade: future in c:\\users\\codeninja\\anaconda3\\envs\\tt_fresh\\lib\\site-packages (from pyglet<=1.3.2,>=1.2.0->gym==0.14.0->tensortrade==0.0.1a18) (0.18.1)\n",
      "Building wheels for collected packages: tensortrade\n",
      "  Building wheel for tensortrade (setup.py): started\n",
      "  Building wheel for tensortrade (setup.py): finished with status 'done'\n",
      "  Created wheel for tensortrade: filename=tensortrade-0.0.1a18-cp37-none-any.whl size=55081 sha256=93e5e59791543c49ec9a0ac581ab7794eff450884e18c4387d0f70d72b2db426\n",
      "  Stored in directory: C:\\Users\\CODENI~1\\AppData\\Local\\Temp\\pip-ephem-wheel-cache-g5nx0quw\\wheels\\f4\\72\\37\\5f9b89cbcd3ef6d4590747c3505b6ed3c72fec82f02d22c51d\n",
      "Successfully built tensortrade\n",
      "Installing collected packages: tensortrade\n",
      "  Found existing installation: tensortrade 0.0.1a18\n",
      "    Uninstalling tensortrade-0.0.1a18:\n",
      "      Successfully uninstalled tensortrade-0.0.1a18\n",
      "Successfully installed tensortrade-0.0.1a18\n"
     ]
    }
   ],
   "source": [
    "%matplotlib inline\n",
    "%load_ext autoreload\n",
    "\n",
    "%autoreload 2\n",
    "!pip install ../../tensortrade -U\n"
   ]
  },
  {
   "cell_type": "code",
   "execution_count": 2,
   "metadata": {},
   "outputs": [],
   "source": [
    "import os\n",
    "import sys\n",
    "import warnings\n",
    "import numpy\n",
    "\n",
    "def warn(*args, **kwargs):\n",
    "    pass\n",
    "\n",
    "warnings.warn = warn\n",
    "warnings.simplefilter(action='ignore', category=FutureWarning)\n",
    "numpy.seterr(divide = 'ignore') \n",
    "\n",
    "sys.path.append(os.path.dirname(os.path.abspath('')))"
   ]
  },
  {
   "cell_type": "markdown",
   "metadata": {},
   "source": [
    "**Read Historical Data**\n",
    "\n",
    "Data generated using : https://github.com/codeninja/CCXT-Historical-Data"
   ]
  },
  {
   "cell_type": "code",
   "execution_count": 3,
   "metadata": {},
   "outputs": [
    {
     "data": {
      "text/html": [
       "<div>\n",
       "<style scoped>\n",
       "    .dataframe tbody tr th:only-of-type {\n",
       "        vertical-align: middle;\n",
       "    }\n",
       "\n",
       "    .dataframe tbody tr th {\n",
       "        vertical-align: top;\n",
       "    }\n",
       "\n",
       "    .dataframe thead th {\n",
       "        text-align: right;\n",
       "    }\n",
       "</style>\n",
       "<table border=\"1\" class=\"dataframe\">\n",
       "  <thead>\n",
       "    <tr style=\"text-align: right;\">\n",
       "      <th></th>\n",
       "      <th>symbol</th>\n",
       "      <th>open</th>\n",
       "      <th>high</th>\n",
       "      <th>low</th>\n",
       "      <th>close</th>\n",
       "      <th>volume</th>\n",
       "    </tr>\n",
       "  </thead>\n",
       "  <tbody>\n",
       "    <tr>\n",
       "      <th>2019-09-30 07:00:00</th>\n",
       "      <td>BTC/USDT</td>\n",
       "      <td>7986.86</td>\n",
       "      <td>8014.21</td>\n",
       "      <td>7984.26</td>\n",
       "      <td>7998.49</td>\n",
       "      <td>269.915958</td>\n",
       "    </tr>\n",
       "    <tr>\n",
       "      <th>2019-09-30 08:00:00</th>\n",
       "      <td>BTC/USDT</td>\n",
       "      <td>7997.94</td>\n",
       "      <td>8152.80</td>\n",
       "      <td>7997.91</td>\n",
       "      <td>8114.76</td>\n",
       "      <td>4459.172673</td>\n",
       "    </tr>\n",
       "    <tr>\n",
       "      <th>2019-09-30 09:00:00</th>\n",
       "      <td>BTC/USDT</td>\n",
       "      <td>8114.99</td>\n",
       "      <td>8257.00</td>\n",
       "      <td>8090.42</td>\n",
       "      <td>8201.57</td>\n",
       "      <td>3209.899291</td>\n",
       "    </tr>\n",
       "    <tr>\n",
       "      <th>2019-09-30 10:00:00</th>\n",
       "      <td>BTC/USDT</td>\n",
       "      <td>8201.54</td>\n",
       "      <td>8300.00</td>\n",
       "      <td>8200.26</td>\n",
       "      <td>8283.85</td>\n",
       "      <td>5111.200055</td>\n",
       "    </tr>\n",
       "    <tr>\n",
       "      <th>2019-09-30 11:00:00</th>\n",
       "      <td>BTC/USDT</td>\n",
       "      <td>8284.01</td>\n",
       "      <td>8337.26</td>\n",
       "      <td>8232.05</td>\n",
       "      <td>8260.01</td>\n",
       "      <td>2893.741582</td>\n",
       "    </tr>\n",
       "  </tbody>\n",
       "</table>\n",
       "</div>"
      ],
      "text/plain": [
       "                       symbol     open     high      low    close       volume\n",
       "2019-09-30 07:00:00  BTC/USDT  7986.86  8014.21  7984.26  7998.49   269.915958\n",
       "2019-09-30 08:00:00  BTC/USDT  7997.94  8152.80  7997.91  8114.76  4459.172673\n",
       "2019-09-30 09:00:00  BTC/USDT  8114.99  8257.00  8090.42  8201.57  3209.899291\n",
       "2019-09-30 10:00:00  BTC/USDT  8201.54  8300.00  8200.26  8283.85  5111.200055\n",
       "2019-09-30 11:00:00  BTC/USDT  8284.01  8337.26  8232.05  8260.01  2893.741582"
      ]
     },
     "execution_count": 3,
     "metadata": {},
     "output_type": "execute_result"
    }
   ],
   "source": [
    "import pandas as pd\n",
    "\n",
    "data_file ='./btc_usdt_1h.csv' \n",
    "df = pd.read_csv(data_file, index_col=[0])\n",
    "df.head()"
   ]
  },
  {
   "cell_type": "code",
   "execution_count": 4,
   "metadata": {
    "scrolled": true
   },
   "outputs": [],
   "source": [
    "import ccxt\n",
    "\n",
    "from tensortrade.strategies import TensorforceTradingStrategy"
   ]
  },
  {
   "cell_type": "code",
   "execution_count": 5,
   "metadata": {
    "scrolled": true
   },
   "outputs": [],
   "source": [
    "from tensortrade.rewards import SimpleProfitStrategy\n",
    "from tensortrade.actions import DiscreteActionStrategy\n",
    "from tensortrade.exchanges.simulated import SimulatedExchange\n",
    "from tensortrade.features.scalers import MinMaxNormalizer\n",
    "from tensortrade.features import FeaturePipeline\n",
    "\n",
    "# we only want to normalize the numeric fields, leaving 'symbol' untouched.\n",
    "normalize = MinMaxNormalizer(columns=['open','close','high','low','volume'], inplace=True)\n",
    "\n",
    "feature_pipeline = FeaturePipeline(steps=[normalize])\n",
    "\n",
    "reward_strategy = SimpleProfitStrategy()\n",
    "action_strategy = DiscreteActionStrategy(n_actions=20, instrument_symbol='BTC/USTD')\n",
    "\n",
    "exchange = SimulatedExchange(data_frame=df,\n",
    "                                should_pretransform_obs = True,\n",
    "                                base_instrument='USDT', \n",
    "                                timeframe='1h',\n",
    "                                commission_percent=0.5,\n",
    "                                window_size=1,\n",
    "                                max_allowed_slippage_percent=3.0,\n",
    "                                min_order_amount=1E-4,\n",
    "                                min_trade_amount=1E-4)"
   ]
  },
  {
   "cell_type": "code",
   "execution_count": 6,
   "metadata": {
    "scrolled": true
   },
   "outputs": [],
   "source": [
    "from tensortrade.environments import TradingEnvironment\n",
    "\n",
    "network_spec = [\n",
    "    dict(type='dense', size=64, activation=\"tanh\"),\n",
    "    dict(type='dense', size=32, activation=\"tanh\")\n",
    "]\n",
    "\n",
    "agent_spec = {\n",
    "    \"type\": \"ppo\",\n",
    "    \"learning_rate\": 1e-4,\n",
    "    \"discount\": 0.99,\n",
    "    \"likelihood_ratio_clipping\": 0.2,\n",
    "    \"estimate_terminal\": False,\n",
    "    \"max_episode_timesteps\": 2000,\n",
    "    \"network\": network_spec,\n",
    "    \"batch_size\": 5,\n",
    "    \"update_frequency\": \"never\"\n",
    "}\n",
    "\n",
    "environment = TradingEnvironment(exchange=exchange,\n",
    "                                 action_strategy=action_strategy,\n",
    "                                 reward_strategy=reward_strategy,\n",
    "                                 feature_pipeline=feature_pipeline)\n",
    "\n",
    "strategy = TensorforceTradingStrategy(environment=environment, agent_spec=agent_spec)"
   ]
  },
  {
   "cell_type": "code",
   "execution_count": 7,
   "metadata": {
    "scrolled": true
   },
   "outputs": [
    {
     "name": "stderr",
     "output_type": "stream",
     "text": [
      "\r",
      "Episodes:   0%|                                | 0/10 [00:00, reward=0.00, ts/ep=0, sec/ep=0.00, ms/ts=0.0, agent=0.0%]"
     ]
    },
    {
     "name": "stdout",
     "output_type": "stream",
     "text": [
      "Empty DataFrame\n",
      "Columns: [symbol, open, high, low, close, volume]\n",
      "Index: []\n"
     ]
    },
    {
     "ename": "TypeError",
     "evalue": "ufunc 'isinf' not supported for the input types, and the inputs could not be safely coerced to any supported types according to the casting rule ''safe''",
     "output_type": "error",
     "traceback": [
      "\u001b[1;31m---------------------------------------------------------------------------\u001b[0m",
      "\u001b[1;31mTypeError\u001b[0m                                 Traceback (most recent call last)",
      "\u001b[1;32m<ipython-input-7-90a98025c068>\u001b[0m in \u001b[0;36m<module>\u001b[1;34m\u001b[0m\n\u001b[1;32m----> 1\u001b[1;33m \u001b[0mperformance\u001b[0m \u001b[1;33m=\u001b[0m \u001b[0mstrategy\u001b[0m\u001b[1;33m.\u001b[0m\u001b[0mrun\u001b[0m\u001b[1;33m(\u001b[0m\u001b[0mepisodes\u001b[0m\u001b[1;33m=\u001b[0m\u001b[1;36m10\u001b[0m\u001b[1;33m,\u001b[0m \u001b[0mevaluation\u001b[0m\u001b[1;33m=\u001b[0m\u001b[1;32mFalse\u001b[0m\u001b[1;33m)\u001b[0m\u001b[1;33m\u001b[0m\u001b[1;33m\u001b[0m\u001b[0m\n\u001b[0m\u001b[0;32m      2\u001b[0m \u001b[1;33m\u001b[0m\u001b[0m\n\u001b[0;32m      3\u001b[0m \u001b[0mperformance\u001b[0m\u001b[1;33m[\u001b[0m\u001b[1;33m-\u001b[0m\u001b[1;36m5\u001b[0m\u001b[1;33m:\u001b[0m\u001b[1;33m]\u001b[0m\u001b[1;33m\u001b[0m\u001b[1;33m\u001b[0m\u001b[0m\n",
      "\u001b[1;32m~\\Anaconda3\\envs\\tt_fresh\\lib\\site-packages\\tensortrade\\strategies\\tensorforce_trading_strategy.py\u001b[0m in \u001b[0;36mrun\u001b[1;34m(self, steps, episodes, evaluation, episode_callback)\u001b[0m\n\u001b[0;32m    105\u001b[0m                          \u001b[0mnum_timesteps\u001b[0m\u001b[1;33m=\u001b[0m\u001b[0msteps\u001b[0m\u001b[1;33m,\u001b[0m\u001b[1;33m\u001b[0m\u001b[1;33m\u001b[0m\u001b[0m\n\u001b[0;32m    106\u001b[0m                          \u001b[0mnum_episodes\u001b[0m\u001b[1;33m=\u001b[0m\u001b[0mepisodes\u001b[0m\u001b[1;33m,\u001b[0m\u001b[1;33m\u001b[0m\u001b[1;33m\u001b[0m\u001b[0m\n\u001b[1;32m--> 107\u001b[1;33m                          callback=episode_callback)\n\u001b[0m\u001b[0;32m    108\u001b[0m \u001b[1;33m\u001b[0m\u001b[0m\n\u001b[0;32m    109\u001b[0m         \u001b[0mn_episodes\u001b[0m \u001b[1;33m=\u001b[0m \u001b[0mself\u001b[0m\u001b[1;33m.\u001b[0m\u001b[0m_runner\u001b[0m\u001b[1;33m.\u001b[0m\u001b[0mepisodes\u001b[0m\u001b[1;33m\u001b[0m\u001b[1;33m\u001b[0m\u001b[0m\n",
      "\u001b[1;32mc:\\users\\codeninja\\dev\\tensorforce_source\\tensorforce\\execution\\runner.py\u001b[0m in \u001b[0;36mrun\u001b[1;34m(self, num_episodes, num_timesteps, num_updates, max_episode_timesteps, num_repeat_actions, callback, callback_episode_frequency, callback_timestep_frequency, use_tqdm, mean_horizon, evaluation, evaluation_callback, evaluation_frequency, max_evaluation_timesteps, num_evaluation_iterations)\u001b[0m\n\u001b[0;32m    231\u001b[0m             if not self.run_episode(\n\u001b[0;32m    232\u001b[0m                 \u001b[0menvironment\u001b[0m\u001b[1;33m=\u001b[0m\u001b[0mself\u001b[0m\u001b[1;33m.\u001b[0m\u001b[0menvironment\u001b[0m\u001b[1;33m,\u001b[0m \u001b[0mmax_timesteps\u001b[0m\u001b[1;33m=\u001b[0m\u001b[0mself\u001b[0m\u001b[1;33m.\u001b[0m\u001b[0mmax_episode_timesteps\u001b[0m\u001b[1;33m,\u001b[0m\u001b[1;33m\u001b[0m\u001b[1;33m\u001b[0m\u001b[0m\n\u001b[1;32m--> 233\u001b[1;33m                 \u001b[0mevaluation\u001b[0m\u001b[1;33m=\u001b[0m\u001b[0mself\u001b[0m\u001b[1;33m.\u001b[0m\u001b[0mevaluation\u001b[0m\u001b[1;33m\u001b[0m\u001b[1;33m\u001b[0m\u001b[0m\n\u001b[0m\u001b[0;32m    234\u001b[0m             ):\n\u001b[0;32m    235\u001b[0m                 \u001b[1;32mreturn\u001b[0m\u001b[1;33m\u001b[0m\u001b[1;33m\u001b[0m\u001b[0m\n",
      "\u001b[1;32mc:\\users\\codeninja\\dev\\tensorforce_source\\tensorforce\\execution\\runner.py\u001b[0m in \u001b[0;36mrun_episode\u001b[1;34m(self, environment, max_timesteps, evaluation)\u001b[0m\n\u001b[0;32m    318\u001b[0m \u001b[1;33m\u001b[0m\u001b[0m\n\u001b[0;32m    319\u001b[0m         \u001b[1;31m# Start environment episode\u001b[0m\u001b[1;33m\u001b[0m\u001b[1;33m\u001b[0m\u001b[1;33m\u001b[0m\u001b[0m\n\u001b[1;32m--> 320\u001b[1;33m         \u001b[0mstates\u001b[0m \u001b[1;33m=\u001b[0m \u001b[0menvironment\u001b[0m\u001b[1;33m.\u001b[0m\u001b[0mreset\u001b[0m\u001b[1;33m(\u001b[0m\u001b[1;33m)\u001b[0m\u001b[1;33m\u001b[0m\u001b[1;33m\u001b[0m\u001b[0m\n\u001b[0m\u001b[0;32m    321\u001b[0m \u001b[1;33m\u001b[0m\u001b[0m\n\u001b[0;32m    322\u001b[0m         \u001b[1;31m# Timestep loop\u001b[0m\u001b[1;33m\u001b[0m\u001b[1;33m\u001b[0m\u001b[1;33m\u001b[0m\u001b[0m\n",
      "\u001b[1;32mc:\\users\\codeninja\\dev\\tensorforce_source\\tensorforce\\environments\\openai_gym.py\u001b[0m in \u001b[0;36mreset\u001b[1;34m(self)\u001b[0m\n\u001b[0;32m    189\u001b[0m         \u001b[0mstates\u001b[0m \u001b[1;33m=\u001b[0m \u001b[0mself\u001b[0m\u001b[1;33m.\u001b[0m\u001b[0menvironment\u001b[0m\u001b[1;33m.\u001b[0m\u001b[0mreset\u001b[0m\u001b[1;33m(\u001b[0m\u001b[1;33m)\u001b[0m\u001b[1;33m\u001b[0m\u001b[1;33m\u001b[0m\u001b[0m\n\u001b[0;32m    190\u001b[0m         \u001b[0mself\u001b[0m\u001b[1;33m.\u001b[0m\u001b[0mtimestep\u001b[0m \u001b[1;33m=\u001b[0m \u001b[1;36m0\u001b[0m\u001b[1;33m\u001b[0m\u001b[1;33m\u001b[0m\u001b[0m\n\u001b[1;32m--> 191\u001b[1;33m         \u001b[1;32mreturn\u001b[0m \u001b[0mOpenAIGym\u001b[0m\u001b[1;33m.\u001b[0m\u001b[0mflatten_state\u001b[0m\u001b[1;33m(\u001b[0m\u001b[0mstate\u001b[0m\u001b[1;33m=\u001b[0m\u001b[0mstates\u001b[0m\u001b[1;33m,\u001b[0m \u001b[0mstates_spec\u001b[0m\u001b[1;33m=\u001b[0m\u001b[0mself\u001b[0m\u001b[1;33m.\u001b[0m\u001b[0mstates_spec\u001b[0m\u001b[1;33m)\u001b[0m\u001b[1;33m\u001b[0m\u001b[1;33m\u001b[0m\u001b[0m\n\u001b[0m\u001b[0;32m    192\u001b[0m \u001b[1;33m\u001b[0m\u001b[0m\n\u001b[0;32m    193\u001b[0m     \u001b[1;32mdef\u001b[0m \u001b[0mexecute\u001b[0m\u001b[1;33m(\u001b[0m\u001b[0mself\u001b[0m\u001b[1;33m,\u001b[0m \u001b[0mactions\u001b[0m\u001b[1;33m)\u001b[0m\u001b[1;33m:\u001b[0m\u001b[1;33m\u001b[0m\u001b[1;33m\u001b[0m\u001b[0m\n",
      "\u001b[1;32mc:\\users\\codeninja\\dev\\tensorforce_source\\tensorforce\\environments\\openai_gym.py\u001b[0m in \u001b[0;36mflatten_state\u001b[1;34m(state, states_spec)\u001b[0m\n\u001b[0;32m    316\u001b[0m             \u001b[1;32mreturn\u001b[0m \u001b[0mstates\u001b[0m\u001b[1;33m\u001b[0m\u001b[1;33m\u001b[0m\u001b[0m\n\u001b[0;32m    317\u001b[0m \u001b[1;33m\u001b[0m\u001b[0m\n\u001b[1;32m--> 318\u001b[1;33m         \u001b[1;32melif\u001b[0m \u001b[0mnp\u001b[0m\u001b[1;33m.\u001b[0m\u001b[0misinf\u001b[0m\u001b[1;33m(\u001b[0m\u001b[0mstate\u001b[0m\u001b[1;33m)\u001b[0m\u001b[1;33m.\u001b[0m\u001b[0many\u001b[0m\u001b[1;33m(\u001b[0m\u001b[1;33m)\u001b[0m \u001b[1;32mor\u001b[0m \u001b[0mnp\u001b[0m\u001b[1;33m.\u001b[0m\u001b[0misnan\u001b[0m\u001b[1;33m(\u001b[0m\u001b[0mstate\u001b[0m\u001b[1;33m)\u001b[0m\u001b[1;33m.\u001b[0m\u001b[0many\u001b[0m\u001b[1;33m(\u001b[0m\u001b[1;33m)\u001b[0m\u001b[1;33m:\u001b[0m\u001b[1;33m\u001b[0m\u001b[1;33m\u001b[0m\u001b[0m\n\u001b[0m\u001b[0;32m    319\u001b[0m             \u001b[1;32mraise\u001b[0m \u001b[0mTensorforceError\u001b[0m\u001b[1;33m(\u001b[0m\u001b[1;34m\"State contains inf or nan.\"\u001b[0m\u001b[1;33m)\u001b[0m\u001b[1;33m\u001b[0m\u001b[1;33m\u001b[0m\u001b[0m\n\u001b[0;32m    320\u001b[0m \u001b[1;33m\u001b[0m\u001b[0m\n",
      "\u001b[1;31mTypeError\u001b[0m: ufunc 'isinf' not supported for the input types, and the inputs could not be safely coerced to any supported types according to the casting rule ''safe''"
     ]
    }
   ],
   "source": [
    "performance = strategy.run(episodes=10, evaluation=False)\n",
    "\n",
    "performance[-5:]"
   ]
  },
  {
   "cell_type": "code",
   "execution_count": null,
   "metadata": {},
   "outputs": [],
   "source": [
    "performance.balance.plot()"
   ]
  },
  {
   "cell_type": "code",
   "execution_count": null,
   "metadata": {},
   "outputs": [],
   "source": [
    "strategy.save_agent(directory='agents')"
   ]
  },
  {
   "cell_type": "code",
   "execution_count": null,
   "metadata": {},
   "outputs": [],
   "source": []
  },
  {
   "cell_type": "code",
   "execution_count": null,
   "metadata": {},
   "outputs": [],
   "source": []
  },
  {
   "cell_type": "code",
   "execution_count": null,
   "metadata": {},
   "outputs": [],
   "source": []
  },
  {
   "cell_type": "code",
   "execution_count": null,
   "metadata": {},
   "outputs": [],
   "source": []
  },
  {
   "cell_type": "code",
   "execution_count": null,
   "metadata": {},
   "outputs": [],
   "source": []
  }
 ],
 "metadata": {
  "kernelspec": {
   "display_name": "Python [conda env:tt_fresh] *",
   "language": "python",
   "name": "conda-env-tt_fresh-py"
  },
  "language_info": {
   "codemirror_mode": {
    "name": "ipython",
    "version": 3
   },
   "file_extension": ".py",
   "mimetype": "text/x-python",
   "name": "python",
   "nbconvert_exporter": "python",
   "pygments_lexer": "ipython3",
   "version": "3.7.4"
  }
 },
 "nbformat": 4,
 "nbformat_minor": 4
}
